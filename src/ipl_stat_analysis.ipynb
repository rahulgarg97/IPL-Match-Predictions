{
 "cells": [
  {
   "cell_type": "code",
   "execution_count": 1,
   "metadata": {},
   "outputs": [],
   "source": [
    "import findspark\n",
    "from pyspark.mllib.clustering import KMeans, KMeansModel\n",
    "from pyspark.sql import SparkSession\n",
    "from pyspark.ml.feature import StandardScaler\n",
    "from pyspark.ml.linalg import Vectors, VectorUDT\n",
    "from pyspark.ml.feature import VectorAssembler\n",
    "from pyspark.ml.clustering import  KMeans\n",
    "from pyspark.sql import SQLContext, Window\n",
    "from pyspark.sql.functions import lit, row_number\n",
    "import pandas as pd\n",
    "import glob\n",
    "import yaml\n",
    "import csv\n",
    "import numpy as np"
   ]
  },
  {
   "cell_type": "code",
   "execution_count": 2,
   "metadata": {},
   "outputs": [],
   "source": [
    "spark = SparkSession.builder.appName('data_analysis').getOrCreate()\n",
    "matches = spark.read .format(\"csv\").option(\"header\", \"true\").load(\"matches_2019.csv\")\n",
    "deliveries = spark.read .format(\"csv\").option(\"header\", \"true\").load(\"deliveries_2019.csv\")"
   ]
  },
  {
   "cell_type": "code",
   "execution_count": 3,
   "metadata": {
    "scrolled": true
   },
   "outputs": [
    {
     "name": "stdout",
     "output_type": "stream",
     "text": [
      "root\n",
      " |-- id: string (nullable = true)\n",
      " |-- season: string (nullable = true)\n",
      " |-- city: string (nullable = true)\n",
      " |-- date: string (nullable = true)\n",
      " |-- team1: string (nullable = true)\n",
      " |-- team2: string (nullable = true)\n",
      " |-- toss_winner: string (nullable = true)\n",
      " |-- toss_decision: string (nullable = true)\n",
      " |-- result: string (nullable = true)\n",
      " |-- dl_applied: string (nullable = true)\n",
      " |-- winner: string (nullable = true)\n",
      " |-- win_by_runs: string (nullable = true)\n",
      " |-- win_by_wickets: string (nullable = true)\n",
      " |-- player_of_match: string (nullable = true)\n",
      " |-- venue: string (nullable = true)\n",
      " |-- umpire1: string (nullable = true)\n",
      " |-- umpire2: string (nullable = true)\n",
      " |-- umpire3: string (nullable = true)\n",
      "\n"
     ]
    }
   ],
   "source": [
    "matches.printSchema()"
   ]
  },
  {
   "cell_type": "code",
   "execution_count": 4,
   "metadata": {},
   "outputs": [
    {
     "name": "stdout",
     "output_type": "stream",
     "text": [
      "root\n",
      " |-- match_id: string (nullable = true)\n",
      " |-- inning: string (nullable = true)\n",
      " |-- batting_team: string (nullable = true)\n",
      " |-- bowling_team: string (nullable = true)\n",
      " |-- over: string (nullable = true)\n",
      " |-- ball: string (nullable = true)\n",
      " |-- batsman: string (nullable = true)\n",
      " |-- non_striker: string (nullable = true)\n",
      " |-- bowler: string (nullable = true)\n",
      " |-- is_super_over: string (nullable = true)\n",
      " |-- wide_runs: string (nullable = true)\n",
      " |-- bye_runs: string (nullable = true)\n",
      " |-- legbye_runs: string (nullable = true)\n",
      " |-- noball_runs: string (nullable = true)\n",
      " |-- penalty_runs: string (nullable = true)\n",
      " |-- batsman_runs: string (nullable = true)\n",
      " |-- extra_runs: string (nullable = true)\n",
      " |-- total_runs: string (nullable = true)\n",
      " |-- player_dismissed: string (nullable = true)\n",
      " |-- dismissal_kind: string (nullable = true)\n",
      " |-- fielder: string (nullable = true)\n",
      "\n"
     ]
    }
   ],
   "source": [
    "deliveries.printSchema()"
   ]
  },
  {
   "cell_type": "code",
   "execution_count": 5,
   "metadata": {},
   "outputs": [],
   "source": [
    "matches.createOrReplaceTempView(\"matches\")\n",
    "deliveries.createOrReplaceTempView(\"deliveries\")"
   ]
  },
  {
   "cell_type": "code",
   "execution_count": 6,
   "metadata": {},
   "outputs": [],
   "source": [
    "df1 = spark.sql(\"select match_id, batting_team, sum(total_runs)/count(dismissal_kind) as Runs_per_Wicket from deliveries group by match_id, batting_team order by cast(match_id as int)\")"
   ]
  },
  {
   "cell_type": "code",
   "execution_count": 7,
   "metadata": {},
   "outputs": [
    {
     "name": "stdout",
     "output_type": "stream",
     "text": [
      "+--------+--------------------+------------------+\n",
      "|match_id|        batting_team|   Runs_per_Wicket|\n",
      "+--------+--------------------+------------------+\n",
      "|       1|Royal Challengers...|              17.2|\n",
      "|       1| Sunrisers Hyderabad|             51.75|\n",
      "|       2|      Mumbai Indians|              23.0|\n",
      "|       2|Rising Pune Super...|62.333333333333336|\n",
      "|       3|       Gujarat Lions|             45.75|\n",
      "|       3|Kolkata Knight Ri...|              null|\n",
      "|       4|     Kings XI Punjab|              41.0|\n",
      "|       4|Rising Pune Super...|27.166666666666668|\n",
      "|       5|    Delhi Daredevils|15.777777777777779|\n",
      "|       5|Royal Challengers...|            19.625|\n",
      "|       6|       Gujarat Lions|19.285714285714285|\n",
      "|       6| Sunrisers Hyderabad|             140.0|\n",
      "|       7|      Mumbai Indians|              30.0|\n",
      "|       7|Kolkata Knight Ri...|25.428571428571427|\n",
      "|       8|     Kings XI Punjab|              75.0|\n",
      "|       8|Royal Challengers...|              37.0|\n",
      "|       9|    Delhi Daredevils|             51.25|\n",
      "|       9|Rising Pune Super...|              10.8|\n",
      "|      10| Sunrisers Hyderabad|             19.75|\n",
      "|      10|      Mumbai Indians|              26.5|\n",
      "+--------+--------------------+------------------+\n",
      "only showing top 20 rows\n",
      "\n"
     ]
    }
   ],
   "source": [
    "df1.show()"
   ]
  },
  {
   "cell_type": "code",
   "execution_count": 8,
   "metadata": {},
   "outputs": [],
   "source": [
    "df1= df1.withColumn(\"new_column\",lit(\"ABC\"))\n",
    "w = Window().partitionBy('new_column').orderBy(lit('A'))\n",
    "df1 = df1.withColumn(\"row_num\", row_number().over(w)).drop(\"new_column\")"
   ]
  },
  {
   "cell_type": "code",
   "execution_count": 9,
   "metadata": {},
   "outputs": [
    {
     "name": "stdout",
     "output_type": "stream",
     "text": [
      "+--------+--------------------+------------------+-------+\n",
      "|match_id|        batting_team|   Runs_per_Wicket|row_num|\n",
      "+--------+--------------------+------------------+-------+\n",
      "|       1| Sunrisers Hyderabad|             51.75|      1|\n",
      "|       1|Royal Challengers...|              17.2|      2|\n",
      "|       2|      Mumbai Indians|              23.0|      3|\n",
      "|       2|Rising Pune Super...|62.333333333333336|      4|\n",
      "|       3|       Gujarat Lions|             45.75|      5|\n",
      "|       3|Kolkata Knight Ri...|              null|      6|\n",
      "|       4|     Kings XI Punjab|              41.0|      7|\n",
      "|       4|Rising Pune Super...|27.166666666666668|      8|\n",
      "|       5|Royal Challengers...|            19.625|      9|\n",
      "|       5|    Delhi Daredevils|15.777777777777779|     10|\n",
      "|       6| Sunrisers Hyderabad|             140.0|     11|\n",
      "|       6|       Gujarat Lions|19.285714285714285|     12|\n",
      "|       7|      Mumbai Indians|              30.0|     13|\n",
      "|       7|Kolkata Knight Ri...|25.428571428571427|     14|\n",
      "|       8|Royal Challengers...|              37.0|     15|\n",
      "|       8|     Kings XI Punjab|              75.0|     16|\n",
      "|       9|    Delhi Daredevils|             51.25|     17|\n",
      "|       9|Rising Pune Super...|              10.8|     18|\n",
      "|      10|      Mumbai Indians|              26.5|     19|\n",
      "|      10| Sunrisers Hyderabad|             19.75|     20|\n",
      "+--------+--------------------+------------------+-------+\n",
      "only showing top 20 rows\n",
      "\n"
     ]
    }
   ],
   "source": [
    "df1.show()"
   ]
  },
  {
   "cell_type": "code",
   "execution_count": 10,
   "metadata": {},
   "outputs": [],
   "source": [
    "df1.createOrReplaceTempView(\"df1\")"
   ]
  },
  {
   "cell_type": "code",
   "execution_count": 11,
   "metadata": {},
   "outputs": [],
   "source": [
    "row_odd = spark.sql('select * from df1 where row_num%2 !=\"0\"')\n",
    "row_even = spark.sql('select * from df1 where row_num%2 =\"0\"')"
   ]
  },
  {
   "cell_type": "code",
   "execution_count": 12,
   "metadata": {},
   "outputs": [],
   "source": [
    "row_odd.createOrReplaceTempView(\"row_odd\")\n",
    "row_even.createOrReplaceTempView(\"row_even\")"
   ]
  },
  {
   "cell_type": "code",
   "execution_count": 13,
   "metadata": {
    "scrolled": true
   },
   "outputs": [],
   "source": [
    "rpw_odd_row = spark.sql(\"select row_odd.match_id, row_odd.batting_team, row_odd.Runs_per_Wicket/row_even.Runs_per_Wicket as Runs_per_Wicket_Ratio from row_odd join row_even where row_odd.match_id = row_even.match_id\")"
   ]
  },
  {
   "cell_type": "code",
   "execution_count": 14,
   "metadata": {},
   "outputs": [],
   "source": [
    "rpw_even_row = spark.sql(\"select row_even.match_id, row_even.batting_team, row_even.Runs_per_Wicket/row_odd.Runs_per_Wicket as Runs_per_Wicket_Ratio from row_odd join row_even where row_odd.match_id = row_even.match_id\")"
   ]
  },
  {
   "cell_type": "code",
   "execution_count": 15,
   "metadata": {},
   "outputs": [],
   "source": [
    "rpw_odd_row.createOrReplaceTempView(\"rpw_odd\")\n",
    "rpw_even_row.createOrReplaceTempView(\"rpw_even\")"
   ]
  },
  {
   "cell_type": "code",
   "execution_count": 16,
   "metadata": {},
   "outputs": [
    {
     "data": {
      "text/plain": [
       "754"
      ]
     },
     "execution_count": 16,
     "metadata": {},
     "output_type": "execute_result"
    }
   ],
   "source": [
    "rpw_odd_row.count()"
   ]
  },
  {
   "cell_type": "code",
   "execution_count": 17,
   "metadata": {},
   "outputs": [
    {
     "data": {
      "text/plain": [
       "754"
      ]
     },
     "execution_count": 17,
     "metadata": {},
     "output_type": "execute_result"
    }
   ],
   "source": [
    "rpw_even_row.count()"
   ]
  },
  {
   "cell_type": "code",
   "execution_count": 18,
   "metadata": {},
   "outputs": [],
   "source": [
    "rpw_ratio = spark.sql(\"select rpw_odd.match_id, rpw_odd.batting_team as team_1, rpw_odd.Runs_per_Wicket_Ratio, rpw_even.batting_team as team_2, rpw_even.Runs_per_Wicket_Ratio from rpw_odd join rpw_even where rpw_odd.match_id = rpw_even.match_id order by cast(match_id as int)\")"
   ]
  },
  {
   "cell_type": "markdown",
   "metadata": {},
   "source": [
    "# Runs per Wicket Ratio for every team in every match played"
   ]
  },
  {
   "cell_type": "code",
   "execution_count": 19,
   "metadata": {
    "scrolled": true
   },
   "outputs": [
    {
     "name": "stdout",
     "output_type": "stream",
     "text": [
      "+--------+--------------------+---------------------+--------------------+---------------------+\n",
      "|match_id|              team_1|Runs_per_Wicket_Ratio|              team_2|Runs_per_Wicket_Ratio|\n",
      "+--------+--------------------+---------------------+--------------------+---------------------+\n",
      "|       1| Sunrisers Hyderabad|   3.0087209302325584|Royal Challengers...|   0.3323671497584541|\n",
      "|       2|      Mumbai Indians|   0.3689839572192513|Rising Pune Super...|    2.710144927536232|\n",
      "|       3|       Gujarat Lions|                 null|Kolkata Knight Ri...|                 null|\n",
      "|       4|     Kings XI Punjab|     1.50920245398773|Rising Pune Super...|   0.6626016260162602|\n",
      "|       5|Royal Challengers...|    1.243838028169014|    Delhi Daredevils|   0.8039631988676575|\n",
      "|       6| Sunrisers Hyderabad|   7.2592592592592595|       Gujarat Lions|   0.1377551020408163|\n",
      "|       7|      Mumbai Indians|   1.1797752808988764|Kolkata Knight Ri...|   0.8476190476190476|\n",
      "|       8|Royal Challengers...|  0.49333333333333335|     Kings XI Punjab|    2.027027027027027|\n",
      "|       9|    Delhi Daredevils|     4.74537037037037|Rising Pune Super...|   0.2107317073170732|\n",
      "|      10|      Mumbai Indians|   1.3417721518987342| Sunrisers Hyderabad|   0.7452830188679245|\n",
      "|      11|Kolkata Knight Ri...|    4.526470588235294|     Kings XI Punjab|  0.22092267706302796|\n",
      "|      12|Royal Challengers...|   1.1751724137931032|      Mumbai Indians|   0.8509389671361504|\n",
      "|      13|Rising Pune Super...|  0.37281976744186046|       Gujarat Lions|   2.6822612085769983|\n",
      "|      14| Sunrisers Hyderabad|   0.9011627906976744|Kolkata Knight Ri...|   1.1096774193548389|\n",
      "|      15|     Kings XI Punjab|   0.4858156028368794|    Delhi Daredevils|   2.0583941605839415|\n",
      "|      16|      Mumbai Indians|   1.0056818181818181|       Gujarat Lions|   0.9943502824858758|\n",
      "|      17|Royal Challengers...|   0.7398205659075224|Rising Pune Super...|    1.351679104477612|\n",
      "|      18|Kolkata Knight Ri...|   1.1736111111111112|    Delhi Daredevils|   0.8520710059171597|\n",
      "|      19| Sunrisers Hyderabad|   1.7207792207792207|     Kings XI Punjab|   0.5811320754716981|\n",
      "|      20|       Gujarat Lions|  0.25754527162977864|Royal Challengers...|            3.8828125|\n",
      "+--------+--------------------+---------------------+--------------------+---------------------+\n",
      "only showing top 20 rows\n",
      "\n"
     ]
    }
   ],
   "source": [
    "rpw_ratio.show()"
   ]
  },
  {
   "cell_type": "code",
   "execution_count": 20,
   "metadata": {},
   "outputs": [],
   "source": [
    "rpw_ratio.createOrReplaceTempView(\"rpw_ratio\")"
   ]
  },
  {
   "cell_type": "code",
   "execution_count": 21,
   "metadata": {},
   "outputs": [],
   "source": [
    "rr = spark.sql(\"select match_id, batting_team, sum(total_runs)/(count(ball)/6) as Runs_Rate from deliveries group by match_id, batting_team order by cast(match_id as int)\")"
   ]
  },
  {
   "cell_type": "code",
   "execution_count": 22,
   "metadata": {},
   "outputs": [
    {
     "name": "stdout",
     "output_type": "stream",
     "text": [
      "+--------+--------------------+------------------+\n",
      "|match_id|        batting_team|         Runs_Rate|\n",
      "+--------+--------------------+------------------+\n",
      "|       1|Royal Challengers...| 8.390243902439025|\n",
      "|       1| Sunrisers Hyderabad|             9.936|\n",
      "|       2|      Mumbai Indians|             8.832|\n",
      "|       2|Rising Pune Super...| 9.196721311475411|\n",
      "|       3|Kolkata Knight Ri...|              11.5|\n",
      "|       3|       Gujarat Lions|               9.0|\n",
      "|       4|Rising Pune Super...| 7.824000000000001|\n",
      "|       4|     Kings XI Punjab| 8.065573770491804|\n",
      "|       5|Royal Challengers...| 7.596774193548387|\n",
      "|       5|    Delhi Daredevils| 6.870967741935483|\n",
      "|       6| Sunrisers Hyderabad|              8.75|\n",
      "|       6|       Gujarat Lions|              6.75|\n",
      "|       7|      Mumbai Indians| 8.571428571428571|\n",
      "|       7|Kolkata Knight Ri...|           8.34375|\n",
      "|       8|     Kings XI Punjab|10.112359550561797|\n",
      "|       8|Royal Challengers...| 7.219512195121951|\n",
      "|       9|    Delhi Daredevils|              9.84|\n",
      "|       9|Rising Pune Super...| 6.415841584158416|\n",
      "|      10|      Mumbai Indians| 8.442477876106196|\n",
      "|      10| Sunrisers Hyderabad| 7.523809523809524|\n",
      "+--------+--------------------+------------------+\n",
      "only showing top 20 rows\n",
      "\n"
     ]
    }
   ],
   "source": [
    "rr.show()"
   ]
  },
  {
   "cell_type": "code",
   "execution_count": 23,
   "metadata": {},
   "outputs": [],
   "source": [
    "rr= rr.withColumn(\"new_column\",lit(\"ABC\"))\n",
    "w1 = Window().partitionBy('new_column').orderBy(lit('A'))\n",
    "rr = rr.withColumn(\"row_num\", row_number().over(w1)).drop(\"new_column\")"
   ]
  },
  {
   "cell_type": "code",
   "execution_count": 24,
   "metadata": {},
   "outputs": [],
   "source": [
    "rr.createOrReplaceTempView(\"rr\")"
   ]
  },
  {
   "cell_type": "code",
   "execution_count": 25,
   "metadata": {},
   "outputs": [
    {
     "name": "stdout",
     "output_type": "stream",
     "text": [
      "+--------+--------------------+------------------+-------+\n",
      "|match_id|        batting_team|         Runs_Rate|row_num|\n",
      "+--------+--------------------+------------------+-------+\n",
      "|       1| Sunrisers Hyderabad|             9.936|      1|\n",
      "|       1|Royal Challengers...| 8.390243902439025|      2|\n",
      "|       2|      Mumbai Indians|             8.832|      3|\n",
      "|       2|Rising Pune Super...| 9.196721311475411|      4|\n",
      "|       3|       Gujarat Lions|               9.0|      5|\n",
      "|       3|Kolkata Knight Ri...|              11.5|      6|\n",
      "|       4|     Kings XI Punjab| 8.065573770491804|      7|\n",
      "|       4|Rising Pune Super...| 7.824000000000001|      8|\n",
      "|       5|Royal Challengers...| 7.596774193548387|      9|\n",
      "|       5|    Delhi Daredevils| 6.870967741935483|     10|\n",
      "|       6| Sunrisers Hyderabad|              8.75|     11|\n",
      "|       6|       Gujarat Lions|              6.75|     12|\n",
      "|       7|      Mumbai Indians| 8.571428571428571|     13|\n",
      "|       7|Kolkata Knight Ri...|           8.34375|     14|\n",
      "|       8|Royal Challengers...| 7.219512195121951|     15|\n",
      "|       8|     Kings XI Punjab|10.112359550561797|     16|\n",
      "|       9|    Delhi Daredevils|              9.84|     17|\n",
      "|       9|Rising Pune Super...| 6.415841584158416|     18|\n",
      "|      10|      Mumbai Indians| 8.442477876106196|     19|\n",
      "|      10| Sunrisers Hyderabad| 7.523809523809524|     20|\n",
      "+--------+--------------------+------------------+-------+\n",
      "only showing top 20 rows\n",
      "\n"
     ]
    }
   ],
   "source": [
    "rr.show()"
   ]
  },
  {
   "cell_type": "code",
   "execution_count": 26,
   "metadata": {},
   "outputs": [],
   "source": [
    "rr_row_odd = spark.sql('select * from rr where row_num%2 !=\"0\"')\n",
    "rr_row_even = spark.sql('select * from rr where row_num%2 =\"0\"')"
   ]
  },
  {
   "cell_type": "code",
   "execution_count": 27,
   "metadata": {},
   "outputs": [
    {
     "name": "stdout",
     "output_type": "stream",
     "text": [
      "+--------+--------------------+-----------------+-------+\n",
      "|match_id|        batting_team|        Runs_Rate|row_num|\n",
      "+--------+--------------------+-----------------+-------+\n",
      "|       1| Sunrisers Hyderabad|            9.936|      1|\n",
      "|       2|      Mumbai Indians|            8.832|      3|\n",
      "|       3|       Gujarat Lions|              9.0|      5|\n",
      "|       4|     Kings XI Punjab|8.065573770491804|      7|\n",
      "|       5|Royal Challengers...|7.596774193548387|      9|\n",
      "|       6| Sunrisers Hyderabad|             8.75|     11|\n",
      "|       7|      Mumbai Indians|8.571428571428571|     13|\n",
      "|       8|Royal Challengers...|7.219512195121951|     15|\n",
      "|       9|    Delhi Daredevils|             9.84|     17|\n",
      "|      10|      Mumbai Indians|8.442477876106196|     19|\n",
      "|      11|Kolkata Knight Ri...|9.865384615384617|     21|\n",
      "|      12|Royal Challengers...|6.870967741935483|     23|\n",
      "|      13|Rising Pune Super...|8.274193548387096|     25|\n",
      "|      14| Sunrisers Hyderabad|              7.5|     27|\n",
      "|      15|     Kings XI Punjab|6.793388429752066|     29|\n",
      "|      16|      Mumbai Indians|            8.496|     31|\n",
      "|      17|Royal Challengers...|6.483870967741935|     33|\n",
      "|      18|Kolkata Knight Ri...| 8.24390243902439|     35|\n",
      "|      19| Sunrisers Hyderabad|7.632000000000001|     37|\n",
      "|      20|       Gujarat Lions|9.142857142857142|     39|\n",
      "+--------+--------------------+-----------------+-------+\n",
      "only showing top 20 rows\n",
      "\n",
      "+--------+--------------------+------------------+-------+\n",
      "|match_id|        batting_team|         Runs_Rate|row_num|\n",
      "+--------+--------------------+------------------+-------+\n",
      "|       1|Royal Challengers...| 8.390243902439025|      2|\n",
      "|       2|Rising Pune Super...| 9.196721311475411|      4|\n",
      "|       3|Kolkata Knight Ri...|              11.5|      6|\n",
      "|       4|Rising Pune Super...| 7.824000000000001|      8|\n",
      "|       5|    Delhi Daredevils| 6.870967741935483|     10|\n",
      "|       6|       Gujarat Lions|              6.75|     12|\n",
      "|       7|Kolkata Knight Ri...|           8.34375|     14|\n",
      "|       8|     Kings XI Punjab|10.112359550561797|     16|\n",
      "|       9|Rising Pune Super...| 6.415841584158416|     18|\n",
      "|      10| Sunrisers Hyderabad| 7.523809523809524|     20|\n",
      "|      11|     Kings XI Punjab| 7.846153846153846|     22|\n",
      "|      12|      Mumbai Indians|   7.3109243697479|     24|\n",
      "|      13|       Gujarat Lions| 9.214285714285714|     26|\n",
      "|      14|Kolkata Knight Ri...|  8.19047619047619|     28|\n",
      "|      15|    Delhi Daredevils| 8.881889763779528|     30|\n",
      "|      16|       Gujarat Lions| 8.380952380952381|     32|\n",
      "|      17|Rising Pune Super...| 7.666666666666667|     34|\n",
      "|      18|    Delhi Daredevils| 8.262295081967213|     36|\n",
      "|      19|     Kings XI Punjab| 7.451612903225806|     38|\n",
      "|      20|Royal Challengers...|10.390243902439025|     40|\n",
      "+--------+--------------------+------------------+-------+\n",
      "only showing top 20 rows\n",
      "\n"
     ]
    }
   ],
   "source": [
    "rr_row_odd.show()\n",
    "rr_row_even.show()"
   ]
  },
  {
   "cell_type": "code",
   "execution_count": 28,
   "metadata": {},
   "outputs": [],
   "source": [
    "rr_row_odd.createOrReplaceTempView(\"rr_row_odd\")\n",
    "rr_row_even.createOrReplaceTempView(\"rr_row_even\")"
   ]
  },
  {
   "cell_type": "markdown",
   "metadata": {},
   "source": [
    "# Net Run Rate for each match played by each team"
   ]
  },
  {
   "cell_type": "code",
   "execution_count": 29,
   "metadata": {},
   "outputs": [],
   "source": [
    "nrr = spark.sql(\"select rr_row_odd.match_id, rr_row_odd.batting_team as team_1, rr_row_even.batting_team as team_2, (rr_row_odd.Runs_rate-rr_row_even.Runs_rate) as Net_Match_Run_Rate from rr_row_odd join rr_row_even where rr_row_odd.match_id = rr_row_even.match_id\")"
   ]
  },
  {
   "cell_type": "code",
   "execution_count": 30,
   "metadata": {},
   "outputs": [
    {
     "name": "stdout",
     "output_type": "stream",
     "text": [
      "+--------+--------------------+--------------------+--------------------+\n",
      "|match_id|              team_1|              team_2|  Net_Match_Run_Rate|\n",
      "+--------+--------------------+--------------------+--------------------+\n",
      "|       1| Sunrisers Hyderabad|Royal Challengers...|  1.5457560975609752|\n",
      "|       2|      Mumbai Indians|Rising Pune Super...| -0.3647213114754102|\n",
      "|       3|       Gujarat Lions|Kolkata Knight Ri...|                -2.5|\n",
      "|       4|     Kings XI Punjab|Rising Pune Super...|  0.2415737704918035|\n",
      "|       5|Royal Challengers...|    Delhi Daredevils|  0.7258064516129039|\n",
      "|       6| Sunrisers Hyderabad|       Gujarat Lions|                 2.0|\n",
      "|       7|      Mumbai Indians|Kolkata Knight Ri...| 0.22767857142857117|\n",
      "|       8|Royal Challengers...|     Kings XI Punjab| -2.8928473554398453|\n",
      "|       9|    Delhi Daredevils|Rising Pune Super...|  3.4241584158415836|\n",
      "|      10|      Mumbai Indians| Sunrisers Hyderabad|  0.9186683522966721|\n",
      "|      11|Kolkata Knight Ri...|     Kings XI Punjab|   2.019230769230771|\n",
      "|      12|Royal Challengers...|      Mumbai Indians|-0.43995662781241673|\n",
      "|      13|Rising Pune Super...|       Gujarat Lions| -0.9400921658986174|\n",
      "|      14| Sunrisers Hyderabad|Kolkata Knight Ri...| -0.6904761904761898|\n",
      "|      15|     Kings XI Punjab|    Delhi Daredevils| -2.0885013340274616|\n",
      "|      16|      Mumbai Indians|       Gujarat Lions| 0.11504761904761907|\n",
      "|      17|Royal Challengers...|Rising Pune Super...|  -1.182795698924732|\n",
      "|      18|Kolkata Knight Ri...|    Delhi Daredevils|-0.01839264294282...|\n",
      "|      19| Sunrisers Hyderabad|     Kings XI Punjab|  0.1803870967741945|\n",
      "|      20|       Gujarat Lions|Royal Challengers...| -1.2473867595818824|\n",
      "+--------+--------------------+--------------------+--------------------+\n",
      "only showing top 20 rows\n",
      "\n"
     ]
    }
   ],
   "source": [
    "nrr.show()"
   ]
  },
  {
   "cell_type": "code",
   "execution_count": 31,
   "metadata": {},
   "outputs": [],
   "source": [
    "nrr.createOrReplaceTempView(\"nrr\")"
   ]
  },
  {
   "cell_type": "code",
   "execution_count": 32,
   "metadata": {},
   "outputs": [],
   "source": [
    "whole_df = spark.sql(\"select * from deliveries join matches where deliveries.match_id = matches.id \")"
   ]
  },
  {
   "cell_type": "code",
   "execution_count": 33,
   "metadata": {},
   "outputs": [],
   "source": [
    "whole_df.createOrReplaceTempView(\"whole_df\")"
   ]
  },
  {
   "cell_type": "markdown",
   "metadata": {},
   "source": [
    "# Year-wise Run Rate for each team"
   ]
  },
  {
   "cell_type": "code",
   "execution_count": 34,
   "metadata": {
    "scrolled": true
   },
   "outputs": [],
   "source": [
    "team_rr = spark.sql(\"select season, batting_team, (sum(total_runs)/(count(ball)/6)) as Batting_Run_Rate from whole_df group by season, batting_team order by season, batting_team\")"
   ]
  },
  {
   "cell_type": "code",
   "execution_count": 35,
   "metadata": {},
   "outputs": [],
   "source": [
    "team_rr.createOrReplaceTempView(\"team_rr\")"
   ]
  },
  {
   "cell_type": "code",
   "execution_count": 36,
   "metadata": {},
   "outputs": [
    {
     "name": "stdout",
     "output_type": "stream",
     "text": [
      "+------+--------------------+------------------+\n",
      "|season|        batting_team|  Batting_Run_Rate|\n",
      "+------+--------------------+------------------+\n",
      "|  2008| Chennai Super Kings| 8.068303094983992|\n",
      "|  2008|     Deccan Chargers| 8.017985611510792|\n",
      "|  2008|    Delhi Daredevils| 8.214608920491274|\n",
      "|  2008|     Kings XI Punjab| 8.501437607820588|\n",
      "|  2008|Kolkata Knight Ri...|7.4836223506743735|\n",
      "|  2008|      Mumbai Indians| 7.878787878787879|\n",
      "|  2008|    Rajasthan Royals| 8.385814078452444|\n",
      "|  2008|Royal Challengers...|7.1717902350813745|\n",
      "|  2009| Chennai Super Kings| 7.832650672908134|\n",
      "|  2009|     Deccan Chargers| 7.644444444444445|\n",
      "|  2009|    Delhi Daredevils| 7.468457943925234|\n",
      "|  2009|     Kings XI Punjab| 6.857142857142857|\n",
      "|  2009|Kolkata Knight Ri...| 6.985545335085414|\n",
      "|  2009|      Mumbai Indians| 7.069565217391305|\n",
      "|  2009|    Rajasthan Royals|6.6166774402068524|\n",
      "|  2009|Royal Challengers...| 7.091757387247278|\n",
      "|  2010| Chennai Super Kings| 8.008200922603793|\n",
      "|  2010|     Deccan Chargers| 7.330931549150798|\n",
      "|  2010|    Delhi Daredevils| 7.669039145907473|\n",
      "|  2010|     Kings XI Punjab|               8.0|\n",
      "+------+--------------------+------------------+\n",
      "only showing top 20 rows\n",
      "\n"
     ]
    }
   ],
   "source": [
    "team_rr.show()"
   ]
  },
  {
   "cell_type": "code",
   "execution_count": 37,
   "metadata": {},
   "outputs": [],
   "source": [
    "opponent_rr = spark.sql(\"select season, bowling_team, (sum(total_runs)/(count(*)/6)) as Bowler_Run_Rate from whole_df group by season, bowling_team order by season, bowling_team\")"
   ]
  },
  {
   "cell_type": "code",
   "execution_count": 38,
   "metadata": {},
   "outputs": [],
   "source": [
    "opponent_rr.createOrReplaceTempView(\"opponent_rr\")"
   ]
  },
  {
   "cell_type": "code",
   "execution_count": 39,
   "metadata": {},
   "outputs": [
    {
     "name": "stdout",
     "output_type": "stream",
     "text": [
      "+------+--------------------+------------------+\n",
      "|season|        bowling_team|   Bowler_Run_Rate|\n",
      "+------+--------------------+------------------+\n",
      "|  2008| Chennai Super Kings| 8.075471698113208|\n",
      "|  2008|     Deccan Chargers| 8.373865698729583|\n",
      "|  2008|    Delhi Daredevils| 8.034939759036144|\n",
      "|  2008|     Kings XI Punjab|  8.19785189372527|\n",
      "|  2008|Kolkata Knight Ri...| 7.635555555555555|\n",
      "|  2008|      Mumbai Indians|7.7295636140135215|\n",
      "|  2008|    Rajasthan Royals| 7.592417061611374|\n",
      "|  2008|Royal Challengers...| 8.151571164510166|\n",
      "|  2009| Chennai Super Kings| 7.394833948339484|\n",
      "|  2009|     Deccan Chargers|7.2663622526636225|\n",
      "|  2009|    Delhi Daredevils| 7.177383592017738|\n",
      "|  2009|     Kings XI Punjab| 7.300645161290323|\n",
      "|  2009|Kolkata Knight Ri...|7.5864276568501925|\n",
      "|  2009|      Mumbai Indians| 6.908626198083067|\n",
      "|  2009|    Rajasthan Royals| 6.775990099009902|\n",
      "|  2009|Royal Challengers...|7.2677824267782425|\n",
      "|  2010| Chennai Super Kings| 7.650455927051672|\n",
      "|  2010|     Deccan Chargers| 7.736103896103897|\n",
      "|  2010|    Delhi Daredevils| 7.586690017513135|\n",
      "|  2010|     Kings XI Punjab| 8.339578454332552|\n",
      "+------+--------------------+------------------+\n",
      "only showing top 20 rows\n",
      "\n"
     ]
    }
   ],
   "source": [
    "opponent_rr.show()"
   ]
  },
  {
   "cell_type": "markdown",
   "metadata": {},
   "source": [
    "# Year-wise Net Tournament Run Rate for each team"
   ]
  },
  {
   "cell_type": "code",
   "execution_count": 40,
   "metadata": {},
   "outputs": [],
   "source": [
    "ntrr = spark.sql(\"select team_rr.season, team_rr.batting_team, team_rr.Batting_Run_Rate - opponent_rr.Bowler_Run_Rate as Net_Tournament_Run_Rate from team_rr join opponent_rr where team_rr.season = opponent_rr.season and team_rr.batting_team = opponent_rr.bowling_team order by season\")"
   ]
  },
  {
   "cell_type": "code",
   "execution_count": 41,
   "metadata": {},
   "outputs": [
    {
     "name": "stdout",
     "output_type": "stream",
     "text": [
      "+------+--------------------+-----------------------+\n",
      "|season|        batting_team|Net_Tournament_Run_Rate|\n",
      "+------+--------------------+-----------------------+\n",
      "|  2008|     Kings XI Punjab|      0.303585714095318|\n",
      "|  2008|Royal Challengers...|    -0.9797809294287916|\n",
      "|  2008|      Mumbai Indians|    0.14922426477435735|\n",
      "|  2008|    Delhi Daredevils|    0.17966916145513068|\n",
      "|  2008|     Deccan Chargers|    -0.3558800872187913|\n",
      "|  2008| Chennai Super Kings|   -0.00716860312921...|\n",
      "|  2008|    Rajasthan Royals|     0.7933970168410704|\n",
      "|  2008|Kolkata Knight Ri...|    -0.1519332048811819|\n",
      "|  2009|Kolkata Knight Ri...|    -0.6008823217647787|\n",
      "|  2009|Royal Challengers...|   -0.17602503953096438|\n",
      "|  2009|      Mumbai Indians|    0.16093901930823762|\n",
      "|  2009|     Kings XI Punjab|   -0.44350230414746594|\n",
      "|  2009| Chennai Super Kings|     0.4378167245686502|\n",
      "|  2009|     Deccan Chargers|    0.37808219178082236|\n",
      "|  2009|    Rajasthan Royals|   -0.15931265880304935|\n",
      "|  2009|    Delhi Daredevils|     0.2910743519074961|\n",
      "|  2010|    Delhi Daredevils|     0.0823491283943385|\n",
      "|  2010|      Mumbai Indians|     0.7088988688639093|\n",
      "|  2010|    Rajasthan Royals|     -0.374984429127319|\n",
      "|  2010| Chennai Super Kings|      0.357744995552121|\n",
      "+------+--------------------+-----------------------+\n",
      "only showing top 20 rows\n",
      "\n"
     ]
    }
   ],
   "source": [
    "ntrr.show()"
   ]
  },
  {
   "cell_type": "code",
   "execution_count": 42,
   "metadata": {},
   "outputs": [],
   "source": [
    "ntrr.createOrReplaceTempView(\"ntrr\")"
   ]
  },
  {
   "cell_type": "markdown",
   "metadata": {},
   "source": [
    "# Teams with positive Net Run Rate over year-wise tournaments"
   ]
  },
  {
   "cell_type": "code",
   "execution_count": 43,
   "metadata": {},
   "outputs": [],
   "source": [
    "positive_ntrr = spark.sql(\"select season, batting_team as team, Net_Tournament_Run_Rate from ntrr where Net_Tournament_Run_Rate > 0 order by season asc, Net_Tournament_Run_Rate desc \")"
   ]
  },
  {
   "cell_type": "code",
   "execution_count": 44,
   "metadata": {},
   "outputs": [
    {
     "name": "stdout",
     "output_type": "stream",
     "text": [
      "+------+--------------------+-----------------------+\n",
      "|season|                team|Net_Tournament_Run_Rate|\n",
      "+------+--------------------+-----------------------+\n",
      "|  2008|    Rajasthan Royals|     0.7933970168410704|\n",
      "|  2008|     Kings XI Punjab|      0.303585714095318|\n",
      "|  2008|    Delhi Daredevils|    0.17966916145513068|\n",
      "|  2008|      Mumbai Indians|    0.14922426477435735|\n",
      "|  2009| Chennai Super Kings|     0.4378167245686502|\n",
      "|  2009|     Deccan Chargers|    0.37808219178082236|\n",
      "|  2009|    Delhi Daredevils|     0.2910743519074961|\n",
      "|  2009|      Mumbai Indians|    0.16093901930823762|\n",
      "|  2010|      Mumbai Indians|     0.7088988688639093|\n",
      "|  2010| Chennai Super Kings|      0.357744995552121|\n",
      "|  2010|Royal Challengers...|     0.2644201419775696|\n",
      "|  2010|    Delhi Daredevils|     0.0823491283943385|\n",
      "|  2011| Chennai Super Kings|     0.5251326644883427|\n",
      "|  2011|Royal Challengers...|    0.32392426609135505|\n",
      "|  2011|Kolkata Knight Ri...|    0.22283835061978152|\n",
      "|  2011|     Deccan Chargers|     0.1727425698731473|\n",
      "|  2012|Kolkata Knight Ri...|     0.4506727911572206|\n",
      "|  2012| Chennai Super Kings|     0.3350125452879693|\n",
      "|  2012|    Delhi Daredevils|     0.2976826296364994|\n",
      "|  2012|    Rajasthan Royals|     0.1957706776148438|\n",
      "+------+--------------------+-----------------------+\n",
      "only showing top 20 rows\n",
      "\n"
     ]
    }
   ],
   "source": [
    "positive_ntrr.show()"
   ]
  },
  {
   "cell_type": "code",
   "execution_count": 45,
   "metadata": {},
   "outputs": [],
   "source": [
    "positive_ntrr.createOrReplaceTempView(\"positive_ntrr\")"
   ]
  },
  {
   "cell_type": "markdown",
   "metadata": {},
   "source": [
    "# No. of times, teams achieved positive Net run rate for tournaments over the last decade\n",
    "This stat can help investors choosing the right team to invest their money into."
   ]
  },
  {
   "cell_type": "code",
   "execution_count": 46,
   "metadata": {},
   "outputs": [],
   "source": [
    "team_bet = spark.sql(\"select team, count(*) as num_of_times_had_positive_NRR from positive_ntrr group by team order by count(*) desc\")"
   ]
  },
  {
   "cell_type": "code",
   "execution_count": 47,
   "metadata": {},
   "outputs": [
    {
     "name": "stdout",
     "output_type": "stream",
     "text": [
      "+--------------------+-----------------------------+\n",
      "|                team|num_of_times_had_positive_NRR|\n",
      "+--------------------+-----------------------------+\n",
      "| Chennai Super Kings|                            9|\n",
      "|      Mumbai Indians|                            9|\n",
      "|Kolkata Knight Ri...|                            7|\n",
      "|    Delhi Daredevils|                            6|\n",
      "|Royal Challengers...|                            5|\n",
      "| Sunrisers Hyderabad|                            4|\n",
      "|     Kings XI Punjab|                            3|\n",
      "|    Rajasthan Royals|                            3|\n",
      "|     Deccan Chargers|                            2|\n",
      "|Rising Pune Super...|                            1|\n",
      "|      Delhi Capitals|                            1|\n",
      "+--------------------+-----------------------------+\n",
      "\n"
     ]
    }
   ],
   "source": [
    "team_bet.show()"
   ]
  }
 ],
 "metadata": {
  "kernelspec": {
   "display_name": "Python 3",
   "language": "python",
   "name": "python3"
  },
  "language_info": {
   "codemirror_mode": {
    "name": "ipython",
    "version": 3
   },
   "file_extension": ".py",
   "mimetype": "text/x-python",
   "name": "python",
   "nbconvert_exporter": "python",
   "pygments_lexer": "ipython3",
   "version": "3.7.4"
  }
 },
 "nbformat": 4,
 "nbformat_minor": 2
}
