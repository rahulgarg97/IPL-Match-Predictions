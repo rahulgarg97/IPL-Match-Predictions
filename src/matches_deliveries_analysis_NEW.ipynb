{
 "cells": [
  {
   "cell_type": "code",
   "execution_count": 1,
   "metadata": {},
   "outputs": [],
   "source": [
    "import findspark"
   ]
  },
  {
   "cell_type": "code",
   "execution_count": 2,
   "metadata": {},
   "outputs": [],
   "source": [
    "from pyspark.mllib.clustering import KMeans, KMeansModel\n",
    "from pyspark.sql import SparkSession\n",
    "from pyspark.ml.feature import StandardScaler\n",
    "from pyspark.ml.linalg import Vectors, VectorUDT\n",
    "from pyspark.ml.feature import VectorAssembler\n",
    "from pyspark.ml.clustering import  KMeans\n",
    "from pyspark.sql import SQLContext, Window\n",
    "from pyspark.sql.functions import *\n",
    "import pandas as pd\n",
    "import glob\n",
    "import yaml\n",
    "import csv\n",
    "import numpy as np"
   ]
  },
  {
   "cell_type": "code",
   "execution_count": 3,
   "metadata": {},
   "outputs": [],
   "source": [
    "spark = SparkSession.builder.appName('data_analysis').getOrCreate()\n",
    "deliveries_df = spark.read .format(\"csv\").option(\"header\", \"true\").load(\"deliveries_2019.csv\")\n",
    "matches_df = spark.read .format(\"csv\").option(\"header\", \"true\").load(\"matches_2019.csv\")"
   ]
  },
  {
   "cell_type": "code",
   "execution_count": 4,
   "metadata": {},
   "outputs": [],
   "source": [
    "deliveries = deliveries_df.toPandas()\n"
   ]
  },
  {
   "cell_type": "code",
   "execution_count": 5,
   "metadata": {},
   "outputs": [
    {
     "data": {
      "text/html": [
       "<div>\n",
       "<style scoped>\n",
       "    .dataframe tbody tr th:only-of-type {\n",
       "        vertical-align: middle;\n",
       "    }\n",
       "\n",
       "    .dataframe tbody tr th {\n",
       "        vertical-align: top;\n",
       "    }\n",
       "\n",
       "    .dataframe thead th {\n",
       "        text-align: right;\n",
       "    }\n",
       "</style>\n",
       "<table border=\"1\" class=\"dataframe\">\n",
       "  <thead>\n",
       "    <tr style=\"text-align: right;\">\n",
       "      <th></th>\n",
       "      <th>match_id</th>\n",
       "      <th>inning</th>\n",
       "      <th>batting_team</th>\n",
       "      <th>bowling_team</th>\n",
       "      <th>over</th>\n",
       "      <th>ball</th>\n",
       "      <th>batsman</th>\n",
       "      <th>non_striker</th>\n",
       "      <th>bowler</th>\n",
       "      <th>is_super_over</th>\n",
       "      <th>...</th>\n",
       "      <th>bye_runs</th>\n",
       "      <th>legbye_runs</th>\n",
       "      <th>noball_runs</th>\n",
       "      <th>penalty_runs</th>\n",
       "      <th>batsman_runs</th>\n",
       "      <th>extra_runs</th>\n",
       "      <th>total_runs</th>\n",
       "      <th>player_dismissed</th>\n",
       "      <th>dismissal_kind</th>\n",
       "      <th>fielder</th>\n",
       "    </tr>\n",
       "  </thead>\n",
       "  <tbody>\n",
       "    <tr>\n",
       "      <td>0</td>\n",
       "      <td>1</td>\n",
       "      <td>1</td>\n",
       "      <td>SRH</td>\n",
       "      <td>RCB</td>\n",
       "      <td>1</td>\n",
       "      <td>1</td>\n",
       "      <td>DA Warner</td>\n",
       "      <td>S Dhawan</td>\n",
       "      <td>TS Mills</td>\n",
       "      <td>0</td>\n",
       "      <td>...</td>\n",
       "      <td>0</td>\n",
       "      <td>0</td>\n",
       "      <td>0</td>\n",
       "      <td>0</td>\n",
       "      <td>0</td>\n",
       "      <td>0</td>\n",
       "      <td>0</td>\n",
       "      <td>None</td>\n",
       "      <td>None</td>\n",
       "      <td>None</td>\n",
       "    </tr>\n",
       "    <tr>\n",
       "      <td>1</td>\n",
       "      <td>1</td>\n",
       "      <td>1</td>\n",
       "      <td>SRH</td>\n",
       "      <td>RCB</td>\n",
       "      <td>1</td>\n",
       "      <td>2</td>\n",
       "      <td>DA Warner</td>\n",
       "      <td>S Dhawan</td>\n",
       "      <td>TS Mills</td>\n",
       "      <td>0</td>\n",
       "      <td>...</td>\n",
       "      <td>0</td>\n",
       "      <td>0</td>\n",
       "      <td>0</td>\n",
       "      <td>0</td>\n",
       "      <td>0</td>\n",
       "      <td>0</td>\n",
       "      <td>0</td>\n",
       "      <td>None</td>\n",
       "      <td>None</td>\n",
       "      <td>None</td>\n",
       "    </tr>\n",
       "    <tr>\n",
       "      <td>2</td>\n",
       "      <td>1</td>\n",
       "      <td>1</td>\n",
       "      <td>SRH</td>\n",
       "      <td>RCB</td>\n",
       "      <td>1</td>\n",
       "      <td>3</td>\n",
       "      <td>DA Warner</td>\n",
       "      <td>S Dhawan</td>\n",
       "      <td>TS Mills</td>\n",
       "      <td>0</td>\n",
       "      <td>...</td>\n",
       "      <td>0</td>\n",
       "      <td>0</td>\n",
       "      <td>0</td>\n",
       "      <td>0</td>\n",
       "      <td>4</td>\n",
       "      <td>0</td>\n",
       "      <td>4</td>\n",
       "      <td>None</td>\n",
       "      <td>None</td>\n",
       "      <td>None</td>\n",
       "    </tr>\n",
       "    <tr>\n",
       "      <td>3</td>\n",
       "      <td>1</td>\n",
       "      <td>1</td>\n",
       "      <td>SRH</td>\n",
       "      <td>RCB</td>\n",
       "      <td>1</td>\n",
       "      <td>4</td>\n",
       "      <td>DA Warner</td>\n",
       "      <td>S Dhawan</td>\n",
       "      <td>TS Mills</td>\n",
       "      <td>0</td>\n",
       "      <td>...</td>\n",
       "      <td>0</td>\n",
       "      <td>0</td>\n",
       "      <td>0</td>\n",
       "      <td>0</td>\n",
       "      <td>0</td>\n",
       "      <td>0</td>\n",
       "      <td>0</td>\n",
       "      <td>None</td>\n",
       "      <td>None</td>\n",
       "      <td>None</td>\n",
       "    </tr>\n",
       "    <tr>\n",
       "      <td>4</td>\n",
       "      <td>1</td>\n",
       "      <td>1</td>\n",
       "      <td>SRH</td>\n",
       "      <td>RCB</td>\n",
       "      <td>1</td>\n",
       "      <td>5</td>\n",
       "      <td>DA Warner</td>\n",
       "      <td>S Dhawan</td>\n",
       "      <td>TS Mills</td>\n",
       "      <td>0</td>\n",
       "      <td>...</td>\n",
       "      <td>0</td>\n",
       "      <td>0</td>\n",
       "      <td>0</td>\n",
       "      <td>0</td>\n",
       "      <td>0</td>\n",
       "      <td>2</td>\n",
       "      <td>2</td>\n",
       "      <td>None</td>\n",
       "      <td>None</td>\n",
       "      <td>None</td>\n",
       "    </tr>\n",
       "    <tr>\n",
       "      <td>...</td>\n",
       "      <td>...</td>\n",
       "      <td>...</td>\n",
       "      <td>...</td>\n",
       "      <td>...</td>\n",
       "      <td>...</td>\n",
       "      <td>...</td>\n",
       "      <td>...</td>\n",
       "      <td>...</td>\n",
       "      <td>...</td>\n",
       "      <td>...</td>\n",
       "      <td>...</td>\n",
       "      <td>...</td>\n",
       "      <td>...</td>\n",
       "      <td>...</td>\n",
       "      <td>...</td>\n",
       "      <td>...</td>\n",
       "      <td>...</td>\n",
       "      <td>...</td>\n",
       "      <td>...</td>\n",
       "      <td>...</td>\n",
       "      <td>...</td>\n",
       "    </tr>\n",
       "    <tr>\n",
       "      <td>179073</td>\n",
       "      <td>11415</td>\n",
       "      <td>2</td>\n",
       "      <td>CSK</td>\n",
       "      <td>MI</td>\n",
       "      <td>20</td>\n",
       "      <td>2</td>\n",
       "      <td>RA Jadeja</td>\n",
       "      <td>SR Watson</td>\n",
       "      <td>SL Malinga</td>\n",
       "      <td>0</td>\n",
       "      <td>...</td>\n",
       "      <td>0</td>\n",
       "      <td>0</td>\n",
       "      <td>0</td>\n",
       "      <td>0</td>\n",
       "      <td>1</td>\n",
       "      <td>0</td>\n",
       "      <td>1</td>\n",
       "      <td>None</td>\n",
       "      <td>None</td>\n",
       "      <td>None</td>\n",
       "    </tr>\n",
       "    <tr>\n",
       "      <td>179074</td>\n",
       "      <td>11415</td>\n",
       "      <td>2</td>\n",
       "      <td>CSK</td>\n",
       "      <td>MI</td>\n",
       "      <td>20</td>\n",
       "      <td>3</td>\n",
       "      <td>SR Watson</td>\n",
       "      <td>RA Jadeja</td>\n",
       "      <td>SL Malinga</td>\n",
       "      <td>0</td>\n",
       "      <td>...</td>\n",
       "      <td>0</td>\n",
       "      <td>0</td>\n",
       "      <td>0</td>\n",
       "      <td>0</td>\n",
       "      <td>2</td>\n",
       "      <td>0</td>\n",
       "      <td>2</td>\n",
       "      <td>None</td>\n",
       "      <td>None</td>\n",
       "      <td>None</td>\n",
       "    </tr>\n",
       "    <tr>\n",
       "      <td>179075</td>\n",
       "      <td>11415</td>\n",
       "      <td>2</td>\n",
       "      <td>CSK</td>\n",
       "      <td>MI</td>\n",
       "      <td>20</td>\n",
       "      <td>4</td>\n",
       "      <td>SR Watson</td>\n",
       "      <td>RA Jadeja</td>\n",
       "      <td>SL Malinga</td>\n",
       "      <td>0</td>\n",
       "      <td>...</td>\n",
       "      <td>0</td>\n",
       "      <td>0</td>\n",
       "      <td>0</td>\n",
       "      <td>0</td>\n",
       "      <td>1</td>\n",
       "      <td>0</td>\n",
       "      <td>1</td>\n",
       "      <td>SR Watson</td>\n",
       "      <td>run out</td>\n",
       "      <td>KH Pandya</td>\n",
       "    </tr>\n",
       "    <tr>\n",
       "      <td>179076</td>\n",
       "      <td>11415</td>\n",
       "      <td>2</td>\n",
       "      <td>CSK</td>\n",
       "      <td>MI</td>\n",
       "      <td>20</td>\n",
       "      <td>5</td>\n",
       "      <td>SN Thakur</td>\n",
       "      <td>RA Jadeja</td>\n",
       "      <td>SL Malinga</td>\n",
       "      <td>0</td>\n",
       "      <td>...</td>\n",
       "      <td>0</td>\n",
       "      <td>0</td>\n",
       "      <td>0</td>\n",
       "      <td>0</td>\n",
       "      <td>2</td>\n",
       "      <td>0</td>\n",
       "      <td>2</td>\n",
       "      <td>None</td>\n",
       "      <td>None</td>\n",
       "      <td>None</td>\n",
       "    </tr>\n",
       "    <tr>\n",
       "      <td>179077</td>\n",
       "      <td>11415</td>\n",
       "      <td>2</td>\n",
       "      <td>CSK</td>\n",
       "      <td>MI</td>\n",
       "      <td>20</td>\n",
       "      <td>6</td>\n",
       "      <td>SN Thakur</td>\n",
       "      <td>RA Jadeja</td>\n",
       "      <td>SL Malinga</td>\n",
       "      <td>0</td>\n",
       "      <td>...</td>\n",
       "      <td>0</td>\n",
       "      <td>0</td>\n",
       "      <td>0</td>\n",
       "      <td>0</td>\n",
       "      <td>0</td>\n",
       "      <td>0</td>\n",
       "      <td>0</td>\n",
       "      <td>SN Thakur</td>\n",
       "      <td>lbw</td>\n",
       "      <td>None</td>\n",
       "    </tr>\n",
       "  </tbody>\n",
       "</table>\n",
       "<p>179078 rows × 21 columns</p>\n",
       "</div>"
      ],
      "text/plain": [
       "       match_id inning batting_team bowling_team over ball    batsman  \\\n",
       "0             1      1          SRH          RCB    1    1  DA Warner   \n",
       "1             1      1          SRH          RCB    1    2  DA Warner   \n",
       "2             1      1          SRH          RCB    1    3  DA Warner   \n",
       "3             1      1          SRH          RCB    1    4  DA Warner   \n",
       "4             1      1          SRH          RCB    1    5  DA Warner   \n",
       "...         ...    ...          ...          ...  ...  ...        ...   \n",
       "179073    11415      2          CSK           MI   20    2  RA Jadeja   \n",
       "179074    11415      2          CSK           MI   20    3  SR Watson   \n",
       "179075    11415      2          CSK           MI   20    4  SR Watson   \n",
       "179076    11415      2          CSK           MI   20    5  SN Thakur   \n",
       "179077    11415      2          CSK           MI   20    6  SN Thakur   \n",
       "\n",
       "       non_striker      bowler is_super_over  ... bye_runs legbye_runs  \\\n",
       "0         S Dhawan    TS Mills             0  ...        0           0   \n",
       "1         S Dhawan    TS Mills             0  ...        0           0   \n",
       "2         S Dhawan    TS Mills             0  ...        0           0   \n",
       "3         S Dhawan    TS Mills             0  ...        0           0   \n",
       "4         S Dhawan    TS Mills             0  ...        0           0   \n",
       "...            ...         ...           ...  ...      ...         ...   \n",
       "179073   SR Watson  SL Malinga             0  ...        0           0   \n",
       "179074   RA Jadeja  SL Malinga             0  ...        0           0   \n",
       "179075   RA Jadeja  SL Malinga             0  ...        0           0   \n",
       "179076   RA Jadeja  SL Malinga             0  ...        0           0   \n",
       "179077   RA Jadeja  SL Malinga             0  ...        0           0   \n",
       "\n",
       "       noball_runs penalty_runs batsman_runs extra_runs total_runs  \\\n",
       "0                0            0            0          0          0   \n",
       "1                0            0            0          0          0   \n",
       "2                0            0            4          0          4   \n",
       "3                0            0            0          0          0   \n",
       "4                0            0            0          2          2   \n",
       "...            ...          ...          ...        ...        ...   \n",
       "179073           0            0            1          0          1   \n",
       "179074           0            0            2          0          2   \n",
       "179075           0            0            1          0          1   \n",
       "179076           0            0            2          0          2   \n",
       "179077           0            0            0          0          0   \n",
       "\n",
       "       player_dismissed dismissal_kind    fielder  \n",
       "0                  None           None       None  \n",
       "1                  None           None       None  \n",
       "2                  None           None       None  \n",
       "3                  None           None       None  \n",
       "4                  None           None       None  \n",
       "...                 ...            ...        ...  \n",
       "179073             None           None       None  \n",
       "179074             None           None       None  \n",
       "179075        SR Watson        run out  KH Pandya  \n",
       "179076             None           None       None  \n",
       "179077        SN Thakur            lbw       None  \n",
       "\n",
       "[179078 rows x 21 columns]"
      ]
     },
     "execution_count": 5,
     "metadata": {},
     "output_type": "execute_result"
    }
   ],
   "source": [
    "import numpy as np\n",
    "deliveries.replace(['Mumbai Indians','Kolkata Knight Riders','Royal Challengers Bangalore','Deccan Chargers','Chennai Super Kings',\n",
    "                 'Rajasthan Royals','Delhi Capitals','Gujarat Lions','Kings XI Punjab',\n",
    "                 'Sunrisers Hyderabad','Rising Pune Supergiants','Kochi Tuskers Kerala','Pune Warriors','Rising Pune Supergiant']\n",
    "                ,['MI','KKR','RCB','DC','CSK','RR','DCap','GL','KXIP','SRH','RPS','KTK','PW','RPS'],inplace=True)\n",
    "\n",
    "deliveries"
   ]
  },
  {
   "cell_type": "code",
   "execution_count": 6,
   "metadata": {},
   "outputs": [],
   "source": [
    "deliveries_df.createOrReplaceTempView(\"data\")"
   ]
  },
  {
   "cell_type": "code",
   "execution_count": 7,
   "metadata": {},
   "outputs": [
    {
     "data": {
      "text/plain": [
       "[('match_id', 'string'),\n",
       " ('inning', 'string'),\n",
       " ('batting_team', 'string'),\n",
       " ('bowling_team', 'string'),\n",
       " ('over', 'string'),\n",
       " ('ball', 'string'),\n",
       " ('batsman', 'string'),\n",
       " ('non_striker', 'string'),\n",
       " ('bowler', 'string'),\n",
       " ('is_super_over', 'string'),\n",
       " ('wide_runs', 'string'),\n",
       " ('bye_runs', 'string'),\n",
       " ('legbye_runs', 'string'),\n",
       " ('noball_runs', 'string'),\n",
       " ('penalty_runs', 'string'),\n",
       " ('batsman_runs', 'string'),\n",
       " ('extra_runs', 'string'),\n",
       " ('total_runs', 'string'),\n",
       " ('player_dismissed', 'string'),\n",
       " ('dismissal_kind', 'string'),\n",
       " ('fielder', 'string')]"
      ]
     },
     "execution_count": 7,
     "metadata": {},
     "output_type": "execute_result"
    }
   ],
   "source": [
    "deliveries_df.dtypes"
   ]
  },
  {
   "cell_type": "code",
   "execution_count": 8,
   "metadata": {},
   "outputs": [],
   "source": [
    "deliveries_df.dtypes\n",
    "p=spark.sql(\"select distinct(bowler), sum(total_runs) as runs_given from data group by bowler order by runs_given desc\").collect()"
   ]
  },
  {
   "cell_type": "code",
   "execution_count": 9,
   "metadata": {},
   "outputs": [
    {
     "name": "stdout",
     "output_type": "stream",
     "text": [
      "[['PP Chawla', 4153.0], ['Harbhajan Singh', 4050.0], ['A Mishra', 3850.0], ['DJ Bravo', 3733.0], ['UT Yadav', 3640.0], ['SL Malinga', 3511.0], ['R Ashwin', 3391.0], ['P Kumar', 3342.0], ['B Kumar', 3264.0], ['RA Jadeja', 3221.0], ['R Vinay Kumar', 3043.0], ['SP Narine', 2939.0], ['Z Khan', 2860.0], ['SR Watson', 2751.0], ['IK Pathan', 2711.0]]\n"
     ]
    }
   ],
   "source": [
    "count = []\n",
    "bowler = []\n",
    "\n",
    "for i in range(15):\n",
    "    count.append(p[i].runs_given)\n",
    "    bowler.append(p[i].bowler)\n",
    "    \n",
    "dictionary = [[x,y] for x,y in zip(bowler, count)]\n",
    "print(dictionary)"
   ]
  },
  {
   "cell_type": "code",
   "execution_count": 10,
   "metadata": {},
   "outputs": [
    {
     "data": {
      "text/plain": [
       "<Figure size 2000x600 with 1 Axes>"
      ]
     },
     "metadata": {},
     "output_type": "display_data"
    }
   ],
   "source": [
    "import matplotlib.pyplot as plt\n",
    "plt.gcf().set_size_inches(20,6)\n",
    "plt.xlabel('Bowler')\n",
    "plt.ylabel('Runs_given')\n",
    "plt.title('Highest runs_giving bowlers')\n",
    "plt.bar(bowler, count, color = '#7D3C98')\n",
    "plt.show()"
   ]
  },
  {
   "cell_type": "code",
   "execution_count": 11,
   "metadata": {},
   "outputs": [],
   "source": [
    "p=spark.sql(\"select distinct(bowler), sum(total_runs) as runs_given from data group by bowler order by runs_given\").collect()"
   ]
  },
  {
   "cell_type": "code",
   "execution_count": 12,
   "metadata": {},
   "outputs": [
    {
     "name": "stdout",
     "output_type": "stream",
     "text": [
      "[['AC Gilchrist', 0.0], ['AM Rahane', 5.0], ['SPD Smith', 5.0], ['LA Carseldine', 6.0], ['SS Mundhe', 6.0], ['SN Khan', 6.0], ['Y Gnaneswara Rao', 7.0], ['KS Williamson', 7.0], ['SA Yadav', 8.0], ['RS Gavaskar', 8.0], ['Sachin Baby', 8.0], ['S Dube', 9.0], ['H Vihari', 9.0], ['RA Shaikh', 11.0], ['RA Tripathi', 12.0]]\n"
     ]
    }
   ],
   "source": [
    "count = []\n",
    "bowler = []\n",
    "\n",
    "for i in range(15):\n",
    "    count.append(p[i].runs_given)\n",
    "    bowler.append(p[i].bowler)\n",
    "    \n",
    "dictionary = [[x,y] for x,y in zip(bowler, count)]\n",
    "print(dictionary)"
   ]
  },
  {
   "cell_type": "code",
   "execution_count": 13,
   "metadata": {},
   "outputs": [
    {
     "data": {
      "image/png": "[encoded data removed]",
      "text/plain": [
       "<Figure size 1440x432 with 1 Axes>"
      ]
     },
     "metadata": {
      "needs_background": "light"
     },
     "output_type": "display_data"
    }
   ],
   "source": [
    "import matplotlib.pyplot as plt\n",
    "plt.gcf().set_size_inches(20,6)\n",
    "plt.xlabel('Bowler')\n",
    "plt.ylabel('Runs_given')\n",
    "plt.title('Lowest runs_giving bowlers')\n",
    "plt.bar(bowler, count, color = '#7D3C98')\n",
    "plt.show()"
   ]
  },
  {
   "cell_type": "code",
   "execution_count": 14,
   "metadata": {},
   "outputs": [],
   "source": [
    "k=spark.sql(\"select distinct(fielder) ,count(fielder) as count from data where fielder is not null group by fielder order by count desc\").collect()\n"
   ]
  },
  {
   "cell_type": "code",
   "execution_count": 15,
   "metadata": {},
   "outputs": [],
   "source": [
    "wicket_count = []\n",
    "fielder = []\n",
    "\n",
    "for i in range(15):\n",
    "    wicket_count.append(k[i]['count'])\n",
    "    fielder.append(k[i].fielder)\n"
   ]
  },
  {
   "cell_type": "code",
   "execution_count": 16,
   "metadata": {},
   "outputs": [
    {
     "data": {
      "image/png": "[encoded data removed]",
      "text/plain": [
       "<Figure size 1440x432 with 1 Axes>"
      ]
     },
     "metadata": {
      "needs_background": "light"
     },
     "output_type": "display_data"
    }
   ],
   "source": [
    "plt.gcf().set_size_inches(20,6)\n",
    "plt.xlabel('Fielder')\n",
    "plt.ylabel('times caught')\n",
    "plt.title('Top fielders')\n",
    "plt.bar(fielder, wicket_count, color = 'red')\n",
    "\n",
    "plt.show()\n"
   ]
  },
  {
   "cell_type": "code",
   "execution_count": 17,
   "metadata": {},
   "outputs": [],
   "source": [
    "k=spark.sql(\"select distinct(bowler) ,count(bowler) as count1 from data where batsman_runs='4' or batsman_runs='6' group by bowler order by count1 desc\").collect()"
   ]
  },
  {
   "cell_type": "code",
   "execution_count": 18,
   "metadata": {},
   "outputs": [],
   "source": [
    "boundaries_given = []\n",
    "bowler = []\n",
    "\n",
    "for i in range(15):\n",
    "    boundaries_given.append(k[i].count1)\n",
    "    bowler.append(k[i].bowler)"
   ]
  },
  {
   "cell_type": "code",
   "execution_count": 19,
   "metadata": {},
   "outputs": [
    {
     "data": {
      "image/png": "[encoded data removed]",
      "text/plain": [
       "<Figure size 1440x432 with 1 Axes>"
      ]
     },
     "metadata": {
      "needs_background": "light"
     },
     "output_type": "display_data"
    }
   ],
   "source": [
    "plt.gcf().set_size_inches(20,6)\n",
    "plt.xlabel('Bowler')\n",
    "plt.ylabel('boundaries given')\n",
    "plt.title('Maximum boundaries under the bowler')\n",
    "plt.barh(bowler,boundaries_given, color = 'pink')\n",
    "plt.gca().invert_yaxis()\n",
    "plt.show()\n"
   ]
  },
  {
   "cell_type": "code",
   "execution_count": 20,
   "metadata": {},
   "outputs": [
    {
     "name": "stdout",
     "output_type": "stream",
     "text": [
      "[Row(a='Rajasthan Royals', count1=14), Row(a='Kolkata Knight Riders', count1=13), Row(a='Royal Challengers Bangalore', count1=12), Row(a='Kings XI Punjab', count1=11), Row(a='Gujarat Lions', count1=8), Row(a='Sunrisers Hyderabad', count1=7), Row(a='Delhi Capitals', count1=6), Row(a='Mumbai Indians', count1=5), Row(a='Chennai Super Kings', count1=5)]\n"
     ]
    }
   ],
   "source": [
    "k=spark.sql(\"select distinct(batting_team) as a ,count(*) as count1 from data where is_super_over not in ('0') group by batting_team order by count1 desc \").collect()\n",
    "print(k)"
   ]
  },
  {
   "cell_type": "code",
   "execution_count": 21,
   "metadata": {},
   "outputs": [],
   "source": [
    "super_overs_faced = []\n",
    "team = []\n",
    "\n",
    "for i in range(9):\n",
    "    super_overs_faced.append(k[i].count1)\n",
    "    team.append(k[i].a)"
   ]
  },
  {
   "cell_type": "code",
   "execution_count": 22,
   "metadata": {},
   "outputs": [
    {
     "name": "stderr",
     "output_type": "stream",
     "text": [
      "/Users/rahulgarg97/opt/anaconda3/lib/python3.7/site-packages/ipykernel_launcher.py:19: MatplotlibDeprecationWarning: Unrecognized location 'left center'. Falling back on 'best'; valid locations are\n",
      "\tbest\n",
      "\tupper right\n",
      "\tupper left\n",
      "\tlower left\n",
      "\tlower right\n",
      "\tright\n",
      "\tcenter left\n",
      "\tcenter right\n",
      "\tlower center\n",
      "\tupper center\n",
      "\tcenter\n",
      "This will raise an exception in 3.3.\n"
     ]
    },
    {
     "data": {
      "image/png": "[encoded data removed]",
      "text/plain": [
       "<Figure size 720x360 with 1 Axes>"
      ]
     },
     "metadata": {},
     "output_type": "display_data"
    }
   ],
   "source": [
    "labels = [i for i in team]\n",
    "explode = (0.1, 0, 0, 0, 0, 0)\n",
    "plt.title('percentage of super_overs faced by each IPL team')\n",
    "x = np.char.array(team)\n",
    "y = np.array(super_overs_faced)\n",
    "colors = ['pink','yellow','green','red','gold','lightskyblue','lightcoral','magenta','orange']\n",
    "porcent = 100.*y/y.sum()\n",
    "\n",
    "patches, texts = plt.pie(y, colors=colors, startangle=90, radius=1.2)\n",
    "labels = ['{0} - {1:1.2f} %'.format(i,j) for i,j in zip(x, porcent)]\n",
    "\n",
    "sort_legend = True\n",
    "if sort_legend:\n",
    "    patches, labels, dummy =  zip(*sorted(zip(patches, labels, y),\n",
    "                                          key=lambda x: x[2],\n",
    "                                          reverse=True))\n",
    "plt.gcf().set_size_inches(10,5)\n",
    "plt.legend(patches, labels, loc='left center', bbox_to_anchor=(-0.1, 1.),\n",
    "           fontsize=8)\n",
    "plt.show()"
   ]
  },
  {
   "cell_type": "code",
   "execution_count": 23,
   "metadata": {},
   "outputs": [
    {
     "name": "stdout",
     "output_type": "stream",
     "text": [
      "['Kuldeep Yadav', 'TM Dilshan', 'A Roy', 'KA Pollard', 'M Muralitharan', 'LA Carseldine', 'J Botha', 'DR Smith', 'Jaskaran Singh', 'A Flintoff']\n",
      "[8.39856801909308, 8.02909090909091, 5.6, 8.393416927899686, 6.698292220113852, 5.142857142857142, 6.922425952045134, 8.88689407540395, 9.405405405405405, 9.636363636363637]\n"
     ]
    }
   ],
   "source": [
    "k=spark.sql(\"select distinct(bowler) as bowler ,count(*)/6 as overs from data group by bowler \").collect()\n",
    "\n",
    "k1=spark.sql(\"select distinct(bowler) as bowler ,sum(total_runs) as runs from data group by bowler \").collect()\n",
    "\n",
    "bowler=[]\n",
    "economy=[]\n",
    "for i in range(10):\n",
    "    bowler.append(k[i].bowler)\n",
    "    rate=k1[i].runs/k[i].overs\n",
    "    economy.append(rate)\n",
    "print(bowler)\n",
    "print(economy)"
   ]
  },
  {
   "cell_type": "code",
   "execution_count": 24,
   "metadata": {},
   "outputs": [
    {
     "data": {
      "image/png": "[encoded data removed]",
      "text/plain": [
       "<Figure size 864x360 with 1 Axes>"
      ]
     },
     "metadata": {
      "needs_background": "light"
     },
     "output_type": "display_data"
    }
   ],
   "source": [
    "plt.gcf().set_size_inches(12, 5)\n",
    "plt.xlabel('bowlers')\n",
    "plt.ylabel('economy rate')\n",
    "plt.title('Economy rate of IPL bowlers')\n",
    "plt.plot(bowler, economy, marker='*')\n",
    "plt.xticks(bowler)\n",
    "plt.show()"
   ]
  },
  {
   "cell_type": "code",
   "execution_count": 25,
   "metadata": {},
   "outputs": [],
   "source": [
    "matches_df.createOrReplaceTempView(\"matches\")"
   ]
  },
  {
   "cell_type": "code",
   "execution_count": 26,
   "metadata": {},
   "outputs": [
    {
     "data": {
      "text/plain": [
       "pyspark.sql.dataframe.DataFrame"
      ]
     },
     "execution_count": 26,
     "metadata": {},
     "output_type": "execute_result"
    }
   ],
   "source": [
    "type(deliveries_df)"
   ]
  },
  {
   "cell_type": "code",
   "execution_count": 27,
   "metadata": {},
   "outputs": [],
   "source": [
    "deliveries = spark.createDataFrame(deliveries)"
   ]
  },
  {
   "cell_type": "code",
   "execution_count": 28,
   "metadata": {},
   "outputs": [],
   "source": [
    "deliveries.createOrReplaceTempView(\"deliveries\")"
   ]
  },
  {
   "cell_type": "code",
   "execution_count": 29,
   "metadata": {},
   "outputs": [],
   "source": [
    "df1 = spark.sql(\"select match_id, batting_team, sum(total_runs)/count(dismissal_kind) as Runs_per_Wicket from deliveries group by match_id, batting_team order by cast(match_id as int)\")"
   ]
  },
  {
   "cell_type": "code",
   "execution_count": 30,
   "metadata": {},
   "outputs": [],
   "source": [
    "df1= df1.withColumn(\"new_column\",lit(\"ABC\"))\n",
    "w = Window().partitionBy('new_column').orderBy(lit('A'))\n",
    "df1 = df1.withColumn(\"row_num\", row_number().over(w)).drop(\"new_column\")"
   ]
  },
  {
   "cell_type": "code",
   "execution_count": 31,
   "metadata": {},
   "outputs": [],
   "source": [
    "df1.createOrReplaceTempView(\"df1\")"
   ]
  },
  {
   "cell_type": "code",
   "execution_count": 32,
   "metadata": {},
   "outputs": [],
   "source": [
    "row_odd = spark.sql('select * from df1 where row_num%2 !=\"0\"')\n",
    "row_even = spark.sql('select * from df1 where row_num%2 =\"0\"')"
   ]
  },
  {
   "cell_type": "code",
   "execution_count": 33,
   "metadata": {},
   "outputs": [],
   "source": [
    "row_odd.createOrReplaceTempView(\"row_odd\")\n",
    "row_even.createOrReplaceTempView(\"row_even\")"
   ]
  },
  {
   "cell_type": "code",
   "execution_count": 34,
   "metadata": {},
   "outputs": [],
   "source": [
    "rpw_odd_row = spark.sql(\"select row_odd.match_id, row_odd.batting_team, row_odd.Runs_per_Wicket/row_even.Runs_per_Wicket as Runs_per_Wicket_Ratio from row_odd join row_even where row_odd.match_id = row_even.match_id\")"
   ]
  },
  {
   "cell_type": "code",
   "execution_count": 35,
   "metadata": {},
   "outputs": [],
   "source": [
    "rpw_even_row = spark.sql(\"select row_even.match_id, row_even.batting_team, row_even.Runs_per_Wicket/row_odd.Runs_per_Wicket as Runs_per_Wicket_Ratio from row_odd join row_even where row_odd.match_id = row_even.match_id\")"
   ]
  },
  {
   "cell_type": "code",
   "execution_count": 36,
   "metadata": {},
   "outputs": [],
   "source": [
    "rpw_odd_row.createOrReplaceTempView(\"rpw_odd\")\n",
    "rpw_even_row.createOrReplaceTempView(\"rpw_even\")"
   ]
  },
  {
   "cell_type": "code",
   "execution_count": 37,
   "metadata": {},
   "outputs": [],
   "source": [
    "rpw_ratio = spark.sql(\"select rpw_odd.match_id, rpw_odd.batting_team as team_1, rpw_odd.Runs_per_Wicket_Ratio, rpw_even.batting_team as team_2, rpw_even.Runs_per_Wicket_Ratio from rpw_odd join rpw_even where rpw_odd.match_id = rpw_even.match_id order by rpw_odd.Runs_per_Wicket_Ratio desc, rpw_even.Runs_per_Wicket_Ratio desc\")"
   ]
  },
  {
   "cell_type": "markdown",
   "metadata": {},
   "source": [
    "# Runs per Wicket Ratio for each team in every match played"
   ]
  },
  {
   "cell_type": "code",
   "execution_count": 38,
   "metadata": {},
   "outputs": [
    {
     "name": "stdout",
     "output_type": "stream",
     "text": [
      "+--------+------+---------------------+------+---------------------+\n",
      "|match_id|team_1|Runs_per_Wicket_Ratio|team_2|Runs_per_Wicket_Ratio|\n",
      "+--------+------+---------------------+------+---------------------+\n",
      "|     101|    RR|   13.431818181818182|   RCB|  0.07445008460236886|\n",
      "|      44|    MI|   10.707070707070708|  DCap|  0.09339622641509433|\n",
      "|     578|   KKR|    10.10204081632653|  DCap|    0.098989898989899|\n",
      "|     572|    MI|   10.088495575221238|   SRH|  0.09912280701754386|\n",
      "|     372|   RCB|    9.974226804123711|  DCap|  0.10025839793281655|\n",
      "|     296|  KXIP|    9.586776859504132|   RCB|  0.10431034482758621|\n",
      "|     283|   RCB|                9.216|   KTK|  0.10850694444444445|\n",
      "|    7897|   SRH|     9.13533834586466|    RR|   0.1094650205761317|\n",
      "|      60|   KKR|     9.02439024390244|   RCB|   0.1108108108108108|\n",
      "|   11147|   SRH|    8.737499999999999|   RCB|  0.11444921316165951|\n",
      "|     300|    DC|     8.53448275862069|  KXIP|  0.11717171717171716|\n",
      "|     562|   RCB|    8.392857142857142|    MI|  0.11914893617021277|\n",
      "|     577|   RPS|    8.330578512396695|    MI|  0.12003968253968254|\n",
      "|     230|   KKR|      8.1203007518797|    MI|  0.12314814814814815|\n",
      "|     491|   KKR|    8.053691275167786|  KXIP|  0.12416666666666666|\n",
      "|     620|   RCB|    7.948717948717949|    GL|  0.12580645161290321|\n",
      "|       6|   SRH|   7.2592592592592595|    GL|   0.1377551020408163|\n",
      "|     326|    RR|    7.169117647058823|   RCB|  0.13948717948717948|\n",
      "|     403|    RR|   6.4855072463768115|    MI|  0.15418994413407822|\n",
      "|     542|   CSK|    6.063157894736842|  KXIP|  0.16493055555555555|\n",
      "+--------+------+---------------------+------+---------------------+\n",
      "only showing top 20 rows\n",
      "\n"
     ]
    }
   ],
   "source": [
    "rpw_ratio.show()"
   ]
  },
  {
   "cell_type": "code",
   "execution_count": 39,
   "metadata": {},
   "outputs": [],
   "source": [
    "rpw_ratio.createOrReplaceTempView(\"rpw_ratio\")"
   ]
  },
  {
   "cell_type": "code",
   "execution_count": 40,
   "metadata": {},
   "outputs": [],
   "source": [
    "rr = spark.sql(\"select match_id, batting_team, sum(total_runs)/(count(ball)/6) as Runs_Rate from deliveries group by match_id, batting_team order by cast(match_id as int)\")"
   ]
  },
  {
   "cell_type": "code",
   "execution_count": 41,
   "metadata": {},
   "outputs": [],
   "source": [
    "rr= rr.withColumn(\"new_column\",lit(\"ABC\"))\n",
    "w1 = Window().partitionBy('new_column').orderBy(lit('A'))\n",
    "rr = rr.withColumn(\"row_num\", row_number().over(w1)).drop(\"new_column\")"
   ]
  },
  {
   "cell_type": "code",
   "execution_count": 42,
   "metadata": {},
   "outputs": [],
   "source": [
    "rr.createOrReplaceTempView(\"rr\")"
   ]
  },
  {
   "cell_type": "code",
   "execution_count": 43,
   "metadata": {},
   "outputs": [],
   "source": [
    "rr_row_odd = spark.sql('select * from rr where row_num%2 !=\"0\"')\n",
    "rr_row_even = spark.sql('select * from rr where row_num%2 =\"0\"')"
   ]
  },
  {
   "cell_type": "code",
   "execution_count": 44,
   "metadata": {},
   "outputs": [],
   "source": [
    "rr_row_odd.createOrReplaceTempView(\"rr_row_odd\")\n",
    "rr_row_even.createOrReplaceTempView(\"rr_row_even\")"
   ]
  },
  {
   "cell_type": "markdown",
   "metadata": {},
   "source": [
    "# Net Run Rate for each match played"
   ]
  },
  {
   "cell_type": "code",
   "execution_count": 45,
   "metadata": {},
   "outputs": [],
   "source": [
    "nrr = spark.sql(\"select rr_row_odd.match_id, rr_row_odd.batting_team as team_1, rr_row_even.batting_team as team_2, (rr_row_odd.Runs_rate-rr_row_even.Runs_rate) as Net_Match_Run_Rate from rr_row_odd join rr_row_even where rr_row_odd.match_id = rr_row_even.match_id order by Net_Match_Run_Rate desc\")"
   ]
  },
  {
   "cell_type": "code",
   "execution_count": 46,
   "metadata": {},
   "outputs": [],
   "source": [
    "nrr.createOrReplaceTempView(\"nrr\")"
   ]
  },
  {
   "cell_type": "code",
   "execution_count": 47,
   "metadata": {},
   "outputs": [],
   "source": [
    "from pyspark.sql.functions import *"
   ]
  },
  {
   "cell_type": "code",
   "execution_count": 48,
   "metadata": {},
   "outputs": [],
   "source": [
    "from pyspark.sql import functions as f"
   ]
  },
  {
   "cell_type": "code",
   "execution_count": 49,
   "metadata": {},
   "outputs": [],
   "source": [
    "nrr = nrr.withColumn('teams', \n",
    "                    f.concat(f.col('team_1'),f.lit(','), f.col('team_2')))\n",
    "new_nrr = nrr.select(\"teams\", \"Net_Match_Run_Rate\").collect()"
   ]
  },
  {
   "cell_type": "code",
   "execution_count": 51,
   "metadata": {},
   "outputs": [
    {
     "name": "stdout",
     "output_type": "stream",
     "text": [
      "[['KTK,RR', 7.099557522123893], ['RCB,GL', 6.996721311475411], ['KKR,RCB', 5.870648355158096], ['RCB,PW', 5.840320121951219], ['SRH,RCB', 5.700060471679096], ['MI,DCap', 5.166415662650603], ['RCB,KXIP', 4.961658751303139], ['DC,MI', 4.6859220779220765], ['KXIP,DCap', 4.604308390022676], ['CSK,KXIP', 4.470725995316158], ['KXIP,RCB', 4.198562443845463], ['RR,DCap', 4.145853658536585], ['RR,KXIP', 3.975302419354838], ['MI,DCap', 3.697634653747505], ['DC,KXIP', 3.6585365853658534], ['RCB,KTK', 3.551900170164494], ['CSK,DCap', 3.543192660550459], ['RR,MI', 3.50566924778761], ['RCB,RR', 3.407542026351658], ['KXIP,SRH', 3.338709677419354], ['KKR,RR', 3.3348837209302316], ['MI,DCap', 3.3089213362892744], ['CSK,RCB', 3.223790322580644], ['CSK,DCap', 3.1311550851357586], ['RCB,RR', 3.050256410256411], ['RCB,RR', 3.0258320914058623], ['RR,RCB', 2.9710866141732275], ['RPS,RCB', 2.9372251099560174], ['KXIP,RCB', 2.8928473554398453], ['MI,RCB', 2.882769472856019]]\n"
     ]
    }
   ],
   "source": [
    "NMRR = []\n",
    "team12 = []\n",
    "\n",
    "for i in range(30):\n",
    "    NMRR.append(new_nrr[i].Net_Match_Run_Rate)\n",
    "    team12.append(new_nrr[i].teams)\n",
    "list_teams_nmrr = [[x,y] for x,y in zip(team12, NMRR)]\n",
    "print(list_teams_nmrr)"
   ]
  },
  {
   "cell_type": "code",
   "execution_count": 52,
   "metadata": {},
   "outputs": [
    {
     "data": {
      "image/png": "[encoded data removed]",
      "text/plain": [
       "<Figure size 1440x432 with 1 Axes>"
      ]
     },
     "metadata": {
      "needs_background": "light"
     },
     "output_type": "display_data"
    }
   ],
   "source": [
    "import matplotlib.pyplot as plt\n",
    "plt.gcf().set_size_inches(20,6)\n",
    "plt.xlabel('Match between teams ---->')\n",
    "plt.ylabel('Net Match Run Rate ---->')\n",
    "plt.title('Net Run Rate for each match played')\n",
    "plt.bar(team12, NMRR, color = '#7D3C98')\n",
    "plt.show()"
   ]
  },
  {
   "cell_type": "code",
   "execution_count": 53,
   "metadata": {},
   "outputs": [],
   "source": [
    "nrr.createOrReplaceTempView(\"nrr\")"
   ]
  },
  {
   "cell_type": "code",
   "execution_count": 54,
   "metadata": {},
   "outputs": [],
   "source": [
    "whole_df = spark.sql(\"select * from deliveries join matches where deliveries.match_id = matches.id \")"
   ]
  },
  {
   "cell_type": "code",
   "execution_count": 55,
   "metadata": {},
   "outputs": [],
   "source": [
    "whole_df.createOrReplaceTempView(\"whole_df\")"
   ]
  },
  {
   "cell_type": "code",
   "execution_count": 56,
   "metadata": {},
   "outputs": [],
   "source": [
    "team_rr = spark.sql(\"select season, batting_team, (sum(total_runs)/(count(ball)/6)) as Batting_Run_Rate from whole_df group by season, batting_team order by season, batting_team\")"
   ]
  },
  {
   "cell_type": "code",
   "execution_count": 57,
   "metadata": {},
   "outputs": [],
   "source": [
    "team_rr.createOrReplaceTempView(\"team_rr\")"
   ]
  },
  {
   "cell_type": "code",
   "execution_count": 58,
   "metadata": {},
   "outputs": [],
   "source": [
    "opponent_rr = spark.sql(\"select season, bowling_team, (sum(total_runs)/(count(*)/6)) as Bowler_Run_Rate from whole_df group by season, bowling_team order by season, bowling_team\")"
   ]
  },
  {
   "cell_type": "code",
   "execution_count": 59,
   "metadata": {},
   "outputs": [],
   "source": [
    "opponent_rr.createOrReplaceTempView(\"opponent_rr\")"
   ]
  },
  {
   "cell_type": "code",
   "execution_count": 60,
   "metadata": {},
   "outputs": [],
   "source": [
    "ntrr = spark.sql(\"select team_rr.season, team_rr.batting_team, team_rr.Batting_Run_Rate - opponent_rr.Bowler_Run_Rate as Net_Tournament_Run_Rate from team_rr join opponent_rr where team_rr.season = opponent_rr.season and team_rr.batting_team = opponent_rr.bowling_team order by Net_Tournament_Run_Rate desc\")"
   ]
  },
  {
   "cell_type": "code",
   "execution_count": 61,
   "metadata": {},
   "outputs": [],
   "source": [
    "ntrr.createOrReplaceTempView(\"ntrr\")"
   ]
  },
  {
   "cell_type": "markdown",
   "metadata": {},
   "source": [
    "# Teams with Net Tournament Run Rate over the last decade"
   ]
  },
  {
   "cell_type": "code",
   "execution_count": 62,
   "metadata": {},
   "outputs": [],
   "source": [
    "overall_ntrr = spark.sql(\"select batting_team, sum(Net_Tournament_Run_Rate) as NTRR_till_date from ntrr group by batting_team\").collect()"
   ]
  },
  {
   "cell_type": "code",
   "execution_count": 63,
   "metadata": {},
   "outputs": [
    {
     "name": "stdout",
     "output_type": "stream",
     "text": [
      "[['KKR', 0.2962551662002104], ['DC', -0.5134523620310727], ['GL', -0.8815052358533366], ['RR', -0.7691372289629683], ['MI', 2.3896641729433172], ['CSK', 2.9488271320355812], ['DCap', -1.69561782461928], ['SRH', 0.6246715585377602], ['RCB', -0.2770003921511419], ['RPS', 0.20310955335772451], ['KTK', -0.1730386927281362], ['PW', -1.5253682214721138], ['KXIP', -2.3780797145387087]]\n"
     ]
    }
   ],
   "source": [
    "all_ntrr = []\n",
    "team = []\n",
    "\n",
    "for i in range(13):\n",
    "    all_ntrr.append(overall_ntrr[i].NTRR_till_date)\n",
    "    team.append(overall_ntrr[i].batting_team)\n",
    "    \n",
    "list_team_ntrr = [[x,y] for x,y in zip(team, all_ntrr)]\n",
    "print(list_team_ntrr)"
   ]
  },
  {
   "cell_type": "code",
   "execution_count": 64,
   "metadata": {},
   "outputs": [
    {
     "data": {
      "image/png": "[encoded data removed]",
      "text/plain": [
       "<Figure size 1440x432 with 1 Axes>"
      ]
     },
     "metadata": {
      "needs_background": "light"
     },
     "output_type": "display_data"
    }
   ],
   "source": [
    "import matplotlib.pyplot as plt\n",
    "plt.gcf().set_size_inches(20,6)\n",
    "plt.xlabel('Teams ---->')\n",
    "plt.ylabel('Overall Net Tournament Run Rate ---->')\n",
    "plt.title('Team wise Net Tournament Run Rate in the last decade')\n",
    "plt.bar(team, all_ntrr, color = '#7D3C98')\n",
    "plt.show()"
   ]
  },
  {
   "cell_type": "markdown",
   "metadata": {},
   "source": [
    "# No. of times, teams achieved positive Net run rate for tournaments over the last decade\n",
    "\n",
    "This stat can help investors choosing the right team to invest their money into."
   ]
  },
  {
   "cell_type": "code",
   "execution_count": 65,
   "metadata": {},
   "outputs": [],
   "source": [
    "team_bet = spark.sql(\"select batting_team as team, count(*) as num_of_times_had_positive_NRR from ntrr where Net_Tournament_Run_Rate > 0 group by batting_team order by count(*) desc\").collect()"
   ]
  },
  {
   "cell_type": "code",
   "execution_count": 66,
   "metadata": {},
   "outputs": [
    {
     "data": {
      "text/plain": [
       "[Row(team='MI', num_of_times_had_positive_NRR=9),\n",
       " Row(team='CSK', num_of_times_had_positive_NRR=9),\n",
       " Row(team='KKR', num_of_times_had_positive_NRR=7),\n",
       " Row(team='DCap', num_of_times_had_positive_NRR=7),\n",
       " Row(team='RCB', num_of_times_had_positive_NRR=5),\n",
       " Row(team='SRH', num_of_times_had_positive_NRR=4),\n",
       " Row(team='RR', num_of_times_had_positive_NRR=3),\n",
       " Row(team='KXIP', num_of_times_had_positive_NRR=3),\n",
       " Row(team='DC', num_of_times_had_positive_NRR=2),\n",
       " Row(team='RPS', num_of_times_had_positive_NRR=1)]"
      ]
     },
     "execution_count": 66,
     "metadata": {},
     "output_type": "execute_result"
    }
   ],
   "source": [
    "team_bet"
   ]
  },
  {
   "cell_type": "code",
   "execution_count": 67,
   "metadata": {},
   "outputs": [
    {
     "name": "stdout",
     "output_type": "stream",
     "text": [
      "[9, 9, 7, 7, 5, 4, 3, 3, 2, 1]\n",
      "['MI', 'CSK', 'KKR', 'DCap', 'RCB', 'SRH', 'RR', 'KXIP', 'DC', 'RPS']\n",
      "[['MI', 9], ['CSK', 9], ['KKR', 7], ['DCap', 7], ['RCB', 5], ['SRH', 4], ['RR', 3], ['KXIP', 3], ['DC', 2], ['RPS', 1]]\n"
     ]
    }
   ],
   "source": [
    "positive_ntrr = []\n",
    "team = []\n",
    "\n",
    "for i in range(10):\n",
    "    positive_ntrr.append(team_bet[i].num_of_times_had_positive_NRR)\n",
    "    team.append(team_bet[i].team)\n",
    "print(positive_ntrr)\n",
    "print(team)\n",
    "list_positive_team_ntrr = [[x,y] for x,y in zip(team, positive_ntrr)]\n",
    "print(list_positive_team_ntrr)"
   ]
  },
  {
   "cell_type": "code",
   "execution_count": 68,
   "metadata": {},
   "outputs": [
    {
     "data": {
      "image/png": "[encoded data removed]",
      "text/plain": [
       "<Figure size 1440x432 with 1 Axes>"
      ]
     },
     "metadata": {
      "needs_background": "light"
     },
     "output_type": "display_data"
    }
   ],
   "source": [
    "import matplotlib.pyplot as plt\n",
    "plt.gcf().set_size_inches(20,6)\n",
    "plt.xlabel('Teams ---->')\n",
    "plt.ylabel('No. of times positive Net run rate achieved ---->')\n",
    "plt.title('No. of times, positive Net run rate achieved by teams in tournaments over the last decade')\n",
    "plt.bar(team, positive_ntrr, color = '#7D3C98')\n",
    "plt.show()"
   ]
  }
 ],
 "metadata": {
  "kernelspec": {
   "display_name": "Python 3",
   "language": "python",
   "name": "python3"
  },
  "language_info": {
   "codemirror_mode": {
    "name": "ipython",
    "version": 3
   },
   "file_extension": ".py",
   "mimetype": "text/x-python",
   "name": "python",
   "nbconvert_exporter": "python",
   "pygments_lexer": "ipython3",
   "version": "3.8.3"
  }
 },
 "nbformat": 4,
 "nbformat_minor": 4
}
